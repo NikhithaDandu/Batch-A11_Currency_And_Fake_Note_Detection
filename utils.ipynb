{
 "cells": [
  {
   "cell_type": "code",
   "execution_count": 7,
   "id": "f6cc57ed",
   "metadata": {},
   "outputs": [],
   "source": [
    "\n",
    "import cv2\n",
    "import math\n",
    "import numpy as np\n",
    "import matplotlib.pyplot as plt\n",
    "\n",
    "\n",
    "\n",
    "\n",
    "# convert image to grayscale\n",
    "def img_to_gray(image):\n",
    "    img_gray = cv2.cvtColor(image, cv2.COLOR_RGB2GRAY)\n",
    "    return img_gray\n",
    "\n",
    "\n",
    "\n",
    "# convert image to negative\n",
    "def img_to_neg(image):\n",
    "    img_neg = 255 - image\n",
    "    return img_neg\n",
    "\n",
    "\n",
    "# binary thresholding\n",
    "def binary_thresh(image, threshold):\n",
    "    retval, img_thresh = cv2.threshold(image, threshold, 255, cv2.THRESH_BINARY)\n",
    "    return img_thresh\n",
    "\n",
    "\n",
    "# sobel edge detection\n",
    "def sobel_edge2(image):\n",
    "    # ksize = size of extended sobel kernel\n",
    "    grad_x = cv2.Sobel(image, cv2.CV_16S, 1, 0, ksize=3, borderType = cv2.BORDER_DEFAULT)\n",
    "    grad_y = cv2.Sobel(image, cv2.CV_16S, 0, 1, ksize=3, borderType = cv2.BORDER_DEFAULT)\n",
    "\n",
    "    abs_grad_x = cv2.convertScaleAbs(grad_x)\n",
    "    abs_grad_y = cv2.convertScaleAbs(grad_y)\n",
    "\n",
    "    dst = cv2.addWeighted(abs_grad_x, 0.5, abs_grad_y, 0.5, 0)\n",
    "    return dst\n",
    "\n",
    "\n",
    "\n",
    "\n",
    "# dialte image\n",
    "def dilate_img(image):\n",
    "    img = cv2.dilate(image, np.ones((5 ,5), np.uint8))\n",
    "    return img\n",
    "\n",
    "\n"
   ]
  },
  {
   "cell_type": "code",
   "execution_count": null,
   "id": "8e9325e8",
   "metadata": {},
   "outputs": [],
   "source": []
  },
  {
   "cell_type": "code",
   "execution_count": null,
   "id": "91573ac9",
   "metadata": {},
   "outputs": [],
   "source": []
  }
 ],
 "metadata": {
  "kernelspec": {
   "display_name": "Python 3",
   "language": "python",
   "name": "python3"
  },
  "language_info": {
   "codemirror_mode": {
    "name": "ipython",
    "version": 3
   },
   "file_extension": ".py",
   "mimetype": "text/x-python",
   "name": "python",
   "nbconvert_exporter": "python",
   "pygments_lexer": "ipython3",
   "version": "3.8.8"
  }
 },
 "nbformat": 4,
 "nbformat_minor": 5
}
