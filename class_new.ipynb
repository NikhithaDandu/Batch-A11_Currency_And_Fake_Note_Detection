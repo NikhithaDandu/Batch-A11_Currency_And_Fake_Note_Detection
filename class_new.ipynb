{
 "cells": [
  {
   "cell_type": "code",
   "execution_count": 1,
   "id": "11581359",
   "metadata": {},
   "outputs": [],
   "source": [
    "import h5py\n",
    "import keras\n",
    "from keras.layers import Input, Dense, Flatten\n",
    "from keras.models import Model \n",
    "from keras.applications.vgg16 import VGG16\n",
    "from keras.preprocessing import image \n",
    "from keras.preprocessing.image import ImageDataGenerator \n",
    "import numpy as np\n",
    "from glob import glob\n",
    "import matplotlib.pyplot as plt\n",
    "import cv2\n",
    "import os\n",
    "import tensorflow as tf\n",
    "from PIL import Image"
   ]
  },
  {
   "cell_type": "code",
   "execution_count": 2,
   "id": "b9e8cd62",
   "metadata": {},
   "outputs": [
    {
     "name": "stdout",
     "output_type": "stream",
     "text": [
      "Found 169 images belonging to 7 classes.\n",
      "Found 174 images belonging to 7 classes.\n"
     ]
    }
   ],
   "source": [
    "IMAGE_SIZE = [224, 224]                                                               #specifying the image size\n",
    "train_path = 'C:/Users/divya/Desktop/fake_note_project/data/training'                 #assigning the training set path\n",
    "valid_path = 'C:/Users/divya/Desktop/fake_note_project/data/test'                     #assigning the testing set path\n",
    "\n",
    "\n",
    "\n",
    "                                                                                      #vgg16\n",
    "\n",
    "vgg = VGG16(input_shape=IMAGE_SIZE + [3],weights='imagenet', include_top=False,classes=7)  \n",
    "\n",
    "for layer in vgg.layers:\n",
    "  layer.trainable = False\n",
    "\n",
    "folders = glob('C:/Users/divya/Desktop/fake_note_project/data/training/*')            #to include the folders in training set\n",
    "\n",
    "x = Flatten()(vgg.output)                                                             #flatenning the layer\n",
    "\n",
    "prediction = Dense(len(folders),activation='softmax')(x)                              \n",
    "\n",
    "model = Model(inputs=vgg.input,outputs=prediction)                                    #creating a model\n",
    "\n",
    "#model.summary()\n",
    "\n",
    "model.compile(                                                                        #compiling the model\n",
    "    loss='categorical_crossentropy',\n",
    "    optimizer='adam',\n",
    "    metrics = ['accuracy']\n",
    ") \n",
    "\n",
    "\n",
    "\n",
    "\n",
    "\n",
    "\n",
    "from keras.preprocessing.image import ImageDataGenerator                             #creating objects for ImageDataGenerator\n",
    "train_datagen = ImageDataGenerator(rescale = 1./255,\n",
    "                                   shear_range = 0.2,\n",
    "                                   zoom_range = 0.2,\n",
    "                                   horizontal_flip = True)\n",
    "test_datagen = ImageDataGenerator(rescale = 1./255)\n",
    "\n",
    "\n",
    "training_set = train_datagen.flow_from_directory('C:/Users/divya/Desktop/fake_note_project/data/training',\n",
    "                                                 target_size = (224,224),\n",
    "                                                 batch_size = 32,\n",
    "                                                 classes=['10','100','20','200','2000','50','500'],\n",
    "                                                 class_mode='categorical')\n",
    "test_set = train_datagen.flow_from_directory('C:/Users/divya/Desktop/fake_note_project/data/test',\n",
    "                                                 target_size = (224,224),\n",
    "                                                 batch_size = 32,\n",
    "                                                 classes=['10','100','20','200','2000','50','500'],\n",
    "                                                 class_mode='categorical'\n",
    "                                                 )\n",
    "\n",
    "\n"
   ]
  },
  {
   "cell_type": "code",
   "execution_count": 3,
   "id": "e1a4904c",
   "metadata": {},
   "outputs": [],
   "source": [
    "checkpoint_path=\"C:/Users/divya/Desktop/fake_note_project/cp.ckpt\"\n",
    "checkpoint_dir = os.path.dirname(checkpoint_path)\n",
    "cp_callback = tf.keras.callbacks.ModelCheckpoint(checkpoint_path,save_weights_only=True,verbose=1)"
   ]
  },
  {
   "cell_type": "code",
   "execution_count": 56,
   "id": "7341c731",
   "metadata": {},
   "outputs": [
    {
     "name": "stdout",
     "output_type": "stream",
     "text": [
      "Epoch 1/15\n",
      "6/6 [==============================] - ETA: 0s - loss: 2.7381 - accuracy: 0.1734\n",
      "Epoch 00001: saving model to C:/Users/divya/Desktop/fake_note_project\\cp.ckpt\n",
      "6/6 [==============================] - 117s 20s/step - loss: 2.7381 - accuracy: 0.1734 - val_loss: 1.8495 - val_accuracy: 0.2471\n",
      "Epoch 2/15\n",
      "6/6 [==============================] - ETA: 0s - loss: 1.5629 - accuracy: 0.4451\n",
      "Epoch 00002: saving model to C:/Users/divya/Desktop/fake_note_project\\cp.ckpt\n",
      "6/6 [==============================] - 107s 18s/step - loss: 1.5629 - accuracy: 0.4451 - val_loss: 1.4361 - val_accuracy: 0.6264\n",
      "Epoch 3/15\n",
      "6/6 [==============================] - ETA: 0s - loss: 1.2097 - accuracy: 0.6590\n",
      "Epoch 00003: saving model to C:/Users/divya/Desktop/fake_note_project\\cp.ckpt\n",
      "6/6 [==============================] - 107s 18s/step - loss: 1.2097 - accuracy: 0.6590 - val_loss: 0.7410 - val_accuracy: 0.7701\n",
      "Epoch 4/15\n",
      "6/6 [==============================] - ETA: 0s - loss: 0.6963 - accuracy: 0.7572\n",
      "Epoch 00004: saving model to C:/Users/divya/Desktop/fake_note_project\\cp.ckpt\n",
      "6/6 [==============================] - 111s 19s/step - loss: 0.6963 - accuracy: 0.7572 - val_loss: 0.4807 - val_accuracy: 0.8851\n",
      "Epoch 5/15\n",
      "6/6 [==============================] - ETA: 0s - loss: 0.4950 - accuracy: 0.8613\n",
      "Epoch 00005: saving model to C:/Users/divya/Desktop/fake_note_project\\cp.ckpt\n",
      "6/6 [==============================] - 107s 18s/step - loss: 0.4950 - accuracy: 0.8613 - val_loss: 0.3603 - val_accuracy: 0.9195\n",
      "Epoch 6/15\n",
      "6/6 [==============================] - ETA: 0s - loss: 0.3662 - accuracy: 0.8960\n",
      "Epoch 00006: saving model to C:/Users/divya/Desktop/fake_note_project\\cp.ckpt\n",
      "6/6 [==============================] - 110s 18s/step - loss: 0.3662 - accuracy: 0.8960 - val_loss: 0.3308 - val_accuracy: 0.9253\n",
      "Epoch 7/15\n",
      "6/6 [==============================] - ETA: 0s - loss: 0.2796 - accuracy: 0.9595\n",
      "Epoch 00007: saving model to C:/Users/divya/Desktop/fake_note_project\\cp.ckpt\n",
      "6/6 [==============================] - 104s 17s/step - loss: 0.2796 - accuracy: 0.9595 - val_loss: 0.2246 - val_accuracy: 0.9713\n",
      "Epoch 8/15\n",
      "6/6 [==============================] - ETA: 0s - loss: 0.2226 - accuracy: 0.9538\n",
      "Epoch 00008: saving model to C:/Users/divya/Desktop/fake_note_project\\cp.ckpt\n",
      "6/6 [==============================] - 106s 18s/step - loss: 0.2226 - accuracy: 0.9538 - val_loss: 0.1908 - val_accuracy: 0.9770\n",
      "Epoch 9/15\n",
      "6/6 [==============================] - ETA: 0s - loss: 0.1753 - accuracy: 0.9827\n",
      "Epoch 00009: saving model to C:/Users/divya/Desktop/fake_note_project\\cp.ckpt\n",
      "6/6 [==============================] - 106s 18s/step - loss: 0.1753 - accuracy: 0.9827 - val_loss: 0.1564 - val_accuracy: 0.9885\n",
      "Epoch 10/15\n",
      "6/6 [==============================] - ETA: 0s - loss: 0.1726 - accuracy: 0.9827\n",
      "Epoch 00010: saving model to C:/Users/divya/Desktop/fake_note_project\\cp.ckpt\n",
      "6/6 [==============================] - 106s 18s/step - loss: 0.1726 - accuracy: 0.9827 - val_loss: 0.1393 - val_accuracy: 0.9885\n",
      "Epoch 11/15\n",
      "6/6 [==============================] - ETA: 0s - loss: 0.1263 - accuracy: 0.9884\n",
      "Epoch 00011: saving model to C:/Users/divya/Desktop/fake_note_project\\cp.ckpt\n",
      "6/6 [==============================] - 116s 19s/step - loss: 0.1263 - accuracy: 0.9884 - val_loss: 0.1285 - val_accuracy: 0.9828\n",
      "Epoch 12/15\n",
      "6/6 [==============================] - ETA: 0s - loss: 0.1068 - accuracy: 1.0000\n",
      "Epoch 00012: saving model to C:/Users/divya/Desktop/fake_note_project\\cp.ckpt\n",
      "6/6 [==============================] - 104s 17s/step - loss: 0.1068 - accuracy: 1.0000 - val_loss: 0.1113 - val_accuracy: 0.9885\n",
      "Epoch 13/15\n",
      "6/6 [==============================] - ETA: 0s - loss: 0.0898 - accuracy: 1.0000\n",
      "Epoch 00013: saving model to C:/Users/divya/Desktop/fake_note_project\\cp.ckpt\n",
      "6/6 [==============================] - 105s 18s/step - loss: 0.0898 - accuracy: 1.0000 - val_loss: 0.1023 - val_accuracy: 0.9943\n",
      "Epoch 14/15\n",
      "6/6 [==============================] - ETA: 0s - loss: 0.0685 - accuracy: 1.0000\n",
      "Epoch 00014: saving model to C:/Users/divya/Desktop/fake_note_project\\cp.ckpt\n",
      "6/6 [==============================] - 106s 18s/step - loss: 0.0685 - accuracy: 1.0000 - val_loss: 0.0945 - val_accuracy: 0.9943\n",
      "Epoch 15/15\n",
      "6/6 [==============================] - ETA: 0s - loss: 0.0750 - accuracy: 1.0000\n",
      "Epoch 00015: saving model to C:/Users/divya/Desktop/fake_note_project\\cp.ckpt\n",
      "6/6 [==============================] - 105s 17s/step - loss: 0.0750 - accuracy: 1.0000 - val_loss: 0.0787 - val_accuracy: 0.9943\n"
     ]
    },
    {
     "data": {
      "image/png": "[encoded data removed]",
      "text/plain": [
       "<Figure size 432x288 with 1 Axes>"
      ]
     },
     "metadata": {
      "needs_background": "light"
     },
     "output_type": "display_data"
    },
    {
     "data": {
      "image/png": "[encoded data removed]",
      "text/plain": [
       "<Figure size 432x288 with 1 Axes>"
      ]
     },
     "metadata": {
      "needs_background": "light"
     },
     "output_type": "display_data"
    },
    {
     "data": {
      "text/plain": [
       "<Figure size 432x288 with 0 Axes>"
      ]
     },
     "metadata": {},
     "output_type": "display_data"
    }
   ],
   "source": [
    "def classifying():\n",
    "   r = model.fit(                                                                    #training the model   \n",
    "       training_set,\n",
    "        validation_data=test_set,\n",
    "        epochs=15,\n",
    "        steps_per_epoch=len(training_set),\n",
    "        validation_steps=len(test_set),\n",
    "        callbacks = [cp_callback])\n",
    "   plt.plot(r.history['loss'],label='train loss')                                    \n",
    "   plt.plot(r.history['val_loss'],label='val loss')\n",
    "   plt.legend()\n",
    "   plt.show()\n",
    "   plt.savefig('Lossval_loss')\n",
    "\n",
    "   plt.plot(r.history['accuracy'],label='train acc')\n",
    "   plt.plot(r.history['val_accuracy'],label='val acc')\n",
    "   plt.legend()\n",
    "   plt.show()\n",
    "   plt.savefig('AccVal_acc')\n",
    "#classifying()"
   ]
  },
  {
   "cell_type": "code",
   "execution_count": 4,
   "id": "9b5529d2",
   "metadata": {},
   "outputs": [
    {
     "data": {
      "text/plain": [
       "<tensorflow.python.training.tracking.util.CheckpointLoadStatus at 0x21b7220b040>"
      ]
     },
     "execution_count": 4,
     "metadata": {},
     "output_type": "execute_result"
    }
   ],
   "source": [
    "latest=tf.train.latest_checkpoint(checkpoint_dir)\n",
    "latest"
   ]
  },
  {
   "cell_type": "code",
   "execution_count": 7,
   "id": "d30efac6",
   "metadata": {},
   "outputs": [
    {
     "name": "stdout",
     "output_type": "stream",
     "text": [
      "Found 169 images belonging to 7 classes.\n",
      "Found 174 images belonging to 7 classes.\n",
      "Found 169 images belonging to 7 classes.\n",
      "Found 174 images belonging to 7 classes.\n"
     ]
    },
    {
     "data": {
      "text/plain": [
       "<tensorflow.python.training.tracking.util.CheckpointLoadStatus at 0x21b001eec40>"
      ]
     },
     "execution_count": 7,
     "metadata": {},
     "output_type": "execute_result"
    }
   ],
   "source": [
    "from keras.preprocessing import image\n",
    "train_generator=train_datagen.flow_from_directory(\n",
    "        directory=r\"C:/Users/divya/Desktop/fake_note_project/data/training\",\n",
    "        target_size=(224,224),\n",
    "        batch_size=32,\n",
    "        class_mode=\"categorical\",\n",
    "        shuffle=True,\n",
    "    )\n",
    "\n",
    "test_generator=test_datagen.flow_from_directory(\n",
    "        directory=r\"C:/Users/divya/Desktop/fake_note_project/data/test\",\n",
    "        target_size=(224,224),\n",
    "        batch_size=32,\n",
    "        class_mode=\"categorical\",\n",
    "        shuffle=True,\n",
    "    )\n",
    "model.load_weights(latest)"
   ]
  },
  {
   "cell_type": "code",
   "execution_count": 8,
   "id": "6c33ac6d",
   "metadata": {},
   "outputs": [
    {
     "name": "stdout",
     "output_type": "stream",
     "text": [
      "[2]\n",
      "['20']\n"
     ]
    },
    {
     "data": {
      "text/plain": [
       "['20']"
      ]
     },
     "execution_count": 8,
     "metadata": {},
     "output_type": "execute_result"
    }
   ],
   "source": [
    "def pred(file_path):\n",
    "    img1 = image.load_img(file_path,target_size=(224,224))                    #load the image\n",
    "    img1 = np.asarray(img1)                                                   #convert into nparray\n",
    "    img1 = np.expand_dims(img1, axis=0)                                       #expand the dimensions\n",
    "    res=model.predict(img1)                                                   #predict the class\n",
    "    predicted_class_indices=np.argmax(res,axis=1)\n",
    "    print(predicted_class_indices)\n",
    "    labels=(train_generator.class_indices)\n",
    "    labels = dict((v,k) for k,v in labels.items())\n",
    "    predictions=[labels[k] for k in predicted_class_indices]\n",
    "    print(predictions)\n",
    "    return predictions"
   ]
  },
  {
   "cell_type": "code",
   "execution_count": null,
   "id": "583562ea",
   "metadata": {},
   "outputs": [],
   "source": []
  },
  {
   "cell_type": "code",
   "execution_count": 79,
   "id": "975f094c",
   "metadata": {},
   "outputs": [],
   "source": [
    "TRAIN_DIR = 'C:/Users/divya/Desktop/fake_note_project/data/training'\n",
    "TEST_DIR = 'C:/Users/divya/Desktop/fake_note_project/data/test'\n",
    "classes = 7\n",
    "labels = ['10','20','50','100','200','500','2000']\n",
    "label=[]\n",
    "x_train = []\n",
    "x_test = []\n",
    "y_train = []\n",
    "y_test = []\n",
    "image_set = []\n",
    "for i in range(classes):\n",
    "    path = os.path.join(TRAIN_DIR,labels[i])\n",
    "    images = os.listdir(path)\n",
    "    for j in images:\n",
    "        img = path+\"/\"+j;\n",
    "        v=j.split(\"_\")\n",
    "        if(v[0]=='10'):\n",
    "            y_train.append(0)\n",
    "        elif(v[0]=='100'):\n",
    "            y_train.append(1)\n",
    "        elif(v[0]=='20'):\n",
    "            y_train.append(2)\n",
    "        elif(v[0]=='200'):\n",
    "            y_train.append(3)\n",
    "        elif(v[0]=='2000'):\n",
    "            y_train.append(4)\n",
    "        elif(v[0]=='50'):\n",
    "            y_train.append(5)\n",
    "        elif(v[0]=='500'):\n",
    "            y_train.append(6)\n",
    "        img1 = cv2.imread(img)\n",
    "        x_train.append(img)\n",
    "        \n",
    "        \n",
    "for i in range(classes):\n",
    "    path = os.path.join(TEST_DIR,labels[i])\n",
    "    images = os.listdir(path)\n",
    "    for j in images:\n",
    "        img = path+\"/\"+j;\n",
    "        v=j.split(\"_\")\n",
    "        if(v[0]=='10'):\n",
    "            y_test.append(0)\n",
    "        elif(v[0]=='100'):\n",
    "            y_test.append(1)\n",
    "        elif(v[0]=='20'):\n",
    "            y_test.append(2)\n",
    "        elif(v[0]=='200'):\n",
    "            y_test.append(3)\n",
    "        elif(v[0]=='2000'):\n",
    "            y_test.append(4)\n",
    "        elif(v[0]=='50'):\n",
    "            y_test.append(5)\n",
    "        elif(v[0]=='500'):\n",
    "            y_test.append(6)\n",
    "        img1 = cv2.imread(img)\n",
    "        x_test.append(img)"
   ]
  },
  {
   "cell_type": "code",
   "execution_count": 83,
   "id": "faebd242",
   "metadata": {},
   "outputs": [],
   "source": [
    "pred=[]\n",
    "for i in range(len(x_train)):\n",
    "    img=image.load_img(x_train[i],target_size=(224,224))\n",
    "    img1 = np.asarray(img)  \n",
    "    img1 = np.expand_dims(img1, axis=0)\n",
    "    p=model.predict(img1)\n",
    "    p=np.argmax(p,axis=1)\n",
    "    pred.append(p)\n"
   ]
  },
  {
   "cell_type": "code",
   "execution_count": 84,
   "id": "7c65a6fe",
   "metadata": {},
   "outputs": [],
   "source": [
    "pr=[]\n",
    "for i in range(len(x_test)):\n",
    "    img=image.load_img(x_test[i],target_size=(224,224))\n",
    "    img1 = np.asarray(img)  \n",
    "    img1 = np.expand_dims(img1, axis=0)\n",
    "    p=model.predict(img1)\n",
    "    p=np.argmax(p,axis=1)\n",
    "    pr.append(p)"
   ]
  },
  {
   "cell_type": "code",
   "execution_count": 66,
   "id": "394346f1",
   "metadata": {},
   "outputs": [
    {
     "name": "stdout",
     "output_type": "stream",
     "text": [
      "              precision    recall  f1-score   support\n",
      "\n",
      "           0       1.00      0.62      0.76        21\n",
      "           1       0.95      0.67      0.78        27\n",
      "           2       0.69      1.00      0.82        27\n",
      "           3       1.00      0.95      0.97        20\n",
      "           4       0.77      1.00      0.87        24\n",
      "           5       0.91      0.84      0.87        25\n",
      "           6       0.92      0.92      0.92        25\n",
      "\n",
      "    accuracy                           0.86       169\n",
      "   macro avg       0.89      0.86      0.86       169\n",
      "weighted avg       0.89      0.86      0.86       169\n",
      "\n"
     ]
    }
   ],
   "source": [
    "from sklearn.model_selection import *\n",
    "from sklearn.metrics import *\n",
    "print(classification_report(y_train,pred))"
   ]
  },
  {
   "cell_type": "code",
   "execution_count": 82,
   "id": "bfb0b650",
   "metadata": {},
   "outputs": [
    {
     "name": "stdout",
     "output_type": "stream",
     "text": [
      "              precision    recall  f1-score   support\n",
      "\n",
      "           0       1.00      0.62      0.76        21\n",
      "           1       0.95      0.67      0.78        27\n",
      "           2       0.69      1.00      0.82        27\n",
      "           3       1.00      0.95      0.97        20\n",
      "           4       0.77      1.00      0.87        24\n",
      "           5       0.91      0.84      0.87        25\n",
      "           6       0.92      0.92      0.92        25\n",
      "\n",
      "    accuracy                           0.86       169\n",
      "   macro avg       0.89      0.86      0.86       169\n",
      "weighted avg       0.89      0.86      0.86       169\n",
      "\n"
     ]
    }
   ],
   "source": [
    "print(classification_report(y_test,pr))"
   ]
  },
  {
   "cell_type": "code",
   "execution_count": null,
   "id": "04e522da",
   "metadata": {},
   "outputs": [],
   "source": []
  }
 ],
 "metadata": {
  "kernelspec": {
   "display_name": "Python 3",
   "language": "python",
   "name": "python3"
  },
  "language_info": {
   "codemirror_mode": {
    "name": "ipython",
    "version": 3
   },
   "file_extension": ".py",
   "mimetype": "text/x-python",
   "name": "python",
   "nbconvert_exporter": "python",
   "pygments_lexer": "ipython3",
   "version": "3.8.8"
  }
 },
 "nbformat": 4,
 "nbformat_minor": 5
}
